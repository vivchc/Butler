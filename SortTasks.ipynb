{
 "cells": [
  {
   "cell_type": "markdown",
   "metadata": {},
   "source": [
    "Notes:\n",
    "- Capitalizing single words affects the scores\n",
    "- Morning = 6 AM to 12 PM\n",
    "- Afternoon = 12 PM to 6 PM\n",
    "- Evening = 6 PM to 12 AM next day"
   ]
  },
  {
   "cell_type": "code",
   "execution_count": 10,
   "metadata": {},
   "outputs": [],
   "source": [
    "\"\"\"\n",
    "Class to sort tasks.\n",
    "\"\"\"\n",
    "# Sample code for task app\n",
    "from transformers import pipeline\n",
    "\n",
    "classifier = pipeline(\"zero-shot-classification\", model=\"facebook/bart-large-mnli\")\n",
    "\n",
    "# Turn tasklist into list of sequences to classify\n",
    "file = open(\"output/tasklist.txt\", \"r\")\n",
    "seq_to_classify = file.readlines()\n",
    "\n",
    "# Classifier outputs a list\n",
    "output = classifier(seq_to_classify, candidate_labels=[\"morning\", \"afternoon\",\"evening\"])\n",
    "\n",
    "# Print output to file\n",
    "file = open(\"output/sort_tasks_output.txt\", \"w\")\n",
    "for dict in output:\n",
    "  file.write(f\"{str(dict)}\\n\")\n",
    "file.close()"
   ]
  }
 ],
 "metadata": {
  "kernelspec": {
   "display_name": "venv",
   "language": "python",
   "name": "python3"
  },
  "language_info": {
   "codemirror_mode": {
    "name": "ipython",
    "version": 3
   },
   "file_extension": ".py",
   "mimetype": "text/x-python",
   "name": "python",
   "nbconvert_exporter": "python",
   "pygments_lexer": "ipython3",
   "version": "3.11.4"
  },
  "orig_nbformat": 4
 },
 "nbformat": 4,
 "nbformat_minor": 2
}
